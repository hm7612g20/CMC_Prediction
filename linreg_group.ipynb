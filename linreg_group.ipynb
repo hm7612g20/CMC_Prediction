{
 "cells": [
  {
   "cell_type": "code",
   "execution_count": 1,
   "id": "263bc9d8",
   "metadata": {},
   "outputs": [],
   "source": [
    "import matplotlib.pyplot as plt # used to make plots\n",
    "import numpy as np # for creation of arrays\n",
    "import pandas as pd # for making data frames \n",
    "\n",
    "from sklearn import datasets, linear_model # linear regression model package\n",
    "from sklearn.metrics import mean_squared_error, r2_score # statistics to score model\n",
    "from sklearn.model_selection import train_test_split # allows model to be tested on unseen data"
   ]
  },
  {
   "cell_type": "code",
   "execution_count": 2,
   "id": "5f0baae8",
   "metadata": {},
   "outputs": [],
   "source": [
    "def linear_regression(x_data, y_data, split, show_data):\n",
    "    \n",
    "    '''\n",
    "    \n",
    "    linear_regression:\n",
    "    ------------------\n",
    "    \n",
    "    A function that takes in a list of x-data and y-data and uses sklearn package to find the linear relationship\n",
    "    between the two variables.\n",
    "    \n",
    "    Args:\n",
    "    -----\n",
    "    \n",
    "    x_data: list of values for the x-axis\n",
    "    y-data: list of values for the y-axis\n",
    "    split: how much training data to use (e.g. 0.8 = 80% for training)\n",
    "    show_data: boolean to say if information about regression should be printed (gradient, y-intercept, \n",
    "    mean square error, root mean square error and coefficient of determination)\n",
    "    \n",
    "    Returns:\n",
    "    --------\n",
    "    \n",
    "    x_test: list of test data from the x-axis\n",
    "    x_train: list of train data from the x-axis\n",
    "    y_train: list of test data from the y-axis\n",
    "    y_test: list of train data from the y-axis\n",
    "    pred_all: list of predicted y-values using the all data from equation y = mx + c\n",
    "    \n",
    "    '''\n",
    "    \n",
    "    # splits the x- and y-test data randomly according to the specified ratio\n",
    "    x_train, x_test, y_train, y_test = train_test_split(x_data, y_data, train_size = split, random_state = 32)\n",
    "\n",
    "    x_train_format = np.array(x_train) # reformat as numpy arrays as required to reshape later\n",
    "    x_test_format = np.array(x_test)\n",
    "\n",
    "    regr = linear_model.LinearRegression() # create linear regression object\n",
    "    regr.fit(x_train_format.reshape(-1,1), y_train) # train the model using the training sets   \n",
    "    pred = regr.predict(x_test_format.reshape(-1,1)) # make predictions using the testing set\n",
    "        \n",
    "    grad = regr.coef_[0] # gradient of the predicted linear relationship \n",
    "    intercept = regr.intercept_ # y-intercept of the predicted linear relationship\n",
    "    mse = mean_squared_error(y_test, pred) # mean squared error of results\n",
    "    rmse = np.sqrt(mean_squared_error(y_test, pred)) # root mean squared error \n",
    "    co_det = r2_score(y_test, pred) # coefficient of determination \n",
    "    mae = sum(abs(y_test-pred)) / len(y_test) # mean absolute error\n",
    "    \n",
    "    pred_all = [] # calculates ln(CMC) value assuming linear relationship \n",
    "    for x_val in x_data:\n",
    "        pred_val = (grad * x_val) + intercept\n",
    "        pred_all.append(pred_val)\n",
    "    \n",
    "    if show_data:  # prints data if asked for \n",
    "        print(\"Gradient: \", grad)\n",
    "        print(\"Intercept: \", intercept)\n",
    "        print(\"Mean squared error: %.2f\" % mse)\n",
    "        print(\"Root mean squared error: %.2f\" % rmse)\n",
    "        print(\"Coefficient of determination: %.2f\" % co_det)\n",
    "        print(\"Mean Absolute Error: %.2f\" % mae)\n",
    "        print(\"\\n\")\n",
    "    \n",
    "    return(x_test, x_train, y_test, y_train, pred_all)"
   ]
  },
  {
   "cell_type": "code",
   "execution_count": 3,
   "id": "f229d715",
   "metadata": {},
   "outputs": [],
   "source": [
    "def linear_reg_stats_average(x_data, y_data, split):\n",
    "              \n",
    "    '''\n",
    "    \n",
    "    linear_reg_stats_average:\n",
    "    --------------------------\n",
    "    \n",
    "    A function that takes in a list of x-data and y-data and finds the average values of the statistics \n",
    "    coefficient of determination, root mean square error and mean absolute error using sklearn to find the \n",
    "    linear relationship.\n",
    "    \n",
    "    Args:\n",
    "    -----\n",
    "    \n",
    "    x_data: list of values for the x-axis\n",
    "    y-data: list of values for the y-axis\n",
    "    split: test/train split\n",
    "    \n",
    "    Returns:\n",
    "    --------\n",
    "    \n",
    "    rmse_av: average value of the root mean square error\n",
    "    co_det_av: average value of the coefficient of determination\n",
    "    mae_av: average value of the mean absolute error\n",
    "    \n",
    "    '''\n",
    "\n",
    "    indices = np.arange(len(x_data))\n",
    "    \n",
    "    rmse_total = 0; co_det_total = 0; mae_total = 0\n",
    "    count = 0\n",
    "    \n",
    "    for rs in range(1000):\n",
    "        \n",
    "        # splits the x- and y-test data randomly according to the specified ratio\n",
    "        x_train, x_test, y_train, y_test, ind_train, ind_test = train_test_split(x_data, y_data, indices, \n",
    "                                                                                 train_size = split, \n",
    "                                                                                 random_state = rs)\n",
    "\n",
    "        x_train_format = np.array(x_train) # reformat as numpy arrays as required to reshape later\n",
    "        x_test_format = np.array(x_test)\n",
    "\n",
    "        regr = linear_model.LinearRegression() # create linear regression object\n",
    "        regr.fit(x_train_format.reshape(-1,1), y_train) # train the model using the training sets                                   \n",
    "        pred = regr.predict(x_test_format.reshape(-1,1))  # make predictions using the testing set\n",
    "        \n",
    "        y_test_cmc = ln_cmc_to_cmc(y_test) # converts measured and predicted ln(CMC) back to CMC\n",
    "        pred_cmc = ln_cmc_to_cmc(pred)\n",
    "        \n",
    "        mse = mean_squared_error(y_test_cmc, pred_cmc) # mean squared error of results\n",
    "        rmse = np.sqrt(mean_squared_error(y_test_cmc, pred_cmc)) # root mean squared error \n",
    "        co_det = r2_score(y_test_cmc, pred_cmc) # coefficient of determination \n",
    "        mae = sum(abs(y_test_cmc-pred_cmc)) / len(y_test_cmc) # mean absolute error \n",
    "        \n",
    "        rmse_total += rmse # adds up the statistics values\n",
    "        if 0 < co_det < 1: \n",
    "            co_det_total += co_det\n",
    "        else:\n",
    "            co_det += 0.0 # consider all less than 0 as no correlation\n",
    "        mae_total += mae\n",
    "        count += 1\n",
    "        \n",
    "    rmse_av = rmse_total / count # finds the average by dividing by the number of loops\n",
    "    co_det_av = co_det_total / count\n",
    "    mae_av = mae_total / count\n",
    "    \n",
    "    print(\"RMSE Mean: \", round(rmse_av, 2))\n",
    "    print(\"Coefficient of Determination Mean: \", round(co_det_av, 2))\n",
    "    print(\"MAE Mean: \", round(mae_av, 2))\n",
    "    \n",
    "    return(rmse_av, co_det_av, mae_av)"
   ]
  },
  {
   "cell_type": "code",
   "execution_count": 4,
   "id": "cfbaf91a",
   "metadata": {},
   "outputs": [],
   "source": [
    "def ln_cmc_to_cmc(ln_cmc):\n",
    "              \n",
    "    '''\n",
    "    \n",
    "    ln_cmc_to_cmc:\n",
    "    --------------\n",
    "    \n",
    "    A function that takes in the predicted ln(CMC) values and converts them to CMC values\n",
    "    \n",
    "    Args:\n",
    "    -----\n",
    "    \n",
    "    ln_cmc: list of predicted ln_cmc values\n",
    "    \n",
    "    Returns:\n",
    "    --------\n",
    "    \n",
    "    acc_cmc: numpy array of CMC values\n",
    "    \n",
    "    '''\n",
    "          \n",
    "    cmc_list = []\n",
    "    \n",
    "    for val in ln_cmc:\n",
    "        cmc = np.exp(val) # converts to CMC using the exponential \n",
    "        cmc_list.append(cmc)\n",
    "        \n",
    "    arr_cmc = np.array(cmc_list)\n",
    "        \n",
    "    return(arr_cmc)"
   ]
  },
  {
   "cell_type": "code",
   "execution_count": 5,
   "id": "7b2b9ed6",
   "metadata": {},
   "outputs": [],
   "source": [
    "def test_train_plotter(x_test, x_train, x_all, y_test, y_train, pred, x_label, save_fig, file_name):\n",
    "                  \n",
    "    '''\n",
    "    \n",
    "    test_train_plotter:\n",
    "    ------------------\n",
    "    \n",
    "    A function that plots the test and training data as well as the predicted y-values using the test x-data\n",
    "    \n",
    "    Args:\n",
    "    -----\n",
    "    \n",
    "    x_test: list of x-values used to test\n",
    "    x_train: list of x-values used to train\n",
    "    y_test: list of y-values used to test\n",
    "    y_train: list of y-values used to train\n",
    "    pred: predicted data based on results of linear regression\n",
    "    x_label: label for the x-axis\n",
    "    save_fig: boolean to say if figure should be saved\n",
    "    file_name: name to save file as \n",
    "    \n",
    "    Returns:\n",
    "    --------\n",
    "    \n",
    "    plot showing the test and training data and predicted line\n",
    "    \n",
    "    '''\n",
    "      \n",
    "    plt.scatter(x_test, y_test, color = \"green\", label = \"test\") # plots test data\n",
    "    plt.scatter(x_train, y_train, color = \"orange\", label = \"train\") # plots training data     \n",
    "    plt.plot(x_all, pred, color = \"blue\", linewidth = 2) # plots predicted line\n",
    "  \n",
    "    plt.legend()\n",
    "    plt.ylabel(\"ln(CMC / mM)\")\n",
    "    plt.xlabel(x_label)\n",
    "    \n",
    "    if save_fig:\n",
    "        plt.savefig(\"Plots/\" + file_name, dpi = 500, bbox_inches = \"tight\")\n",
    "\n",
    "    plt.show()\n",
    "    \n",
    "    return"
   ]
  },
  {
   "cell_type": "code",
   "execution_count": 6,
   "id": "25674b4a",
   "metadata": {},
   "outputs": [],
   "source": [
    "cmc_data = pd.read_csv(open(\"Submit_Data/output_descriptors.csv\"), \n",
    "                       delimiter = (\",\"))  \n",
    "# reads in data about the critical micelle concentration, values are separated by a comma\n",
    "    \n",
    "func_group = []; chain_type = []; smiles_str = []; carbon_len = []; ethoxy_len = []\n",
    "aromatic_ring = []; counter_ion = []; cmc_vals = []; mol_weight = []; val_elec = []; logp_vals = []\n",
    "\n",
    "for ind, row in cmc_data.iterrows(): # reads in the rows of the data \n",
    "    \n",
    "    func_group_i = row[\"func_group\"] # functional group info \n",
    "    chain_i = row[\"chain\"] # chain of molecule (e.g. C8E6)\n",
    "    smiles_i = row[\"smiles\"] # smiles string\n",
    "    carbon_len_i = row[\"carbon_len\"] # length of carbon chain\n",
    "    ethoxy_len_i = row[\"ethoxy_len\"] # length of ethoxy group \n",
    "    aromatic_ring_i = row[\"aromatic_rings\"] # number of aromatic rings\n",
    "    counter_ion_i = row[\"counter_ion\"] # counter ion\n",
    "    cmc_i = row[\"CMC\"] # CMC values\n",
    "    mol_weight_i = row[\"MW\"] # molecular weight \n",
    "    val_elec_i = row[\"NVE\"] # number of valence electrons\n",
    "    logp_i = row[\"logP\"] # logP values\n",
    "    \n",
    "    func_group.append(func_group_i) # adds the data to separate lists  \n",
    "    chain_type.append(chain_i); smiles_str.append(smiles_i); carbon_len.append(carbon_len_i)\n",
    "    ethoxy_len.append(ethoxy_len_i); aromatic_ring.append(aromatic_ring_i); counter_ion.append(counter_ion_i)\n",
    "    cmc_vals.append(cmc_i); mol_weight.append(mol_weight_i); val_elec.append(val_elec_i); logp_vals.append(logp_i)"
   ]
  },
  {
   "cell_type": "markdown",
   "id": "2d4d5f7b",
   "metadata": {},
   "source": [
    "***Reads code with with no aromatic rings or E groups in molecule***"
   ]
  },
  {
   "cell_type": "code",
   "execution_count": 7,
   "id": "3786d15a",
   "metadata": {},
   "outputs": [],
   "source": [
    "func_c = []; smiles_c = []; cLen_c = []; eLen_c = []; ion_c = []; cmc_c = []; ln_cmc_c = []; MW_c = [] \n",
    "NVE_c = []; logp_c = []\n",
    "\n",
    "for ind, length in enumerate(carbon_len):\n",
    "    if ethoxy_len[ind] == 0 and aromatic_ring[ind] == 0:   \n",
    "        func_c.append(func_group[ind]); smiles_c.append(smiles_str[ind]); cLen_c.append(carbon_len[ind])\n",
    "        eLen_c.append(ethoxy_len[ind]); ion_c.append(counter_ion[ind]); cmc_c.append(cmc_vals[ind])\n",
    "        ln_cmc_c.append(np.log(cmc_vals[ind])); MW_c.append(mol_weight[ind]); NVE_c.append(val_elec[ind])\n",
    "        logp_c.append(logp_vals[ind])"
   ]
  },
  {
   "cell_type": "markdown",
   "id": "061fdc68",
   "metadata": {},
   "source": [
    "*Number of carbon atoms in tail*"
   ]
  },
  {
   "cell_type": "code",
   "execution_count": 8,
   "id": "89c10b29",
   "metadata": {},
   "outputs": [
    {
     "name": "stdout",
     "output_type": "stream",
     "text": [
      "RMSE Mean:  33.73\n",
      "Coefficient of Determination Mean:  0.81\n",
      "MAE Mean:  14.38\n"
     ]
    }
   ],
   "source": [
    "rmse_av_cLen_c, co_det_av_cLen_c, mae_av_cLen_c = linear_reg_stats_average(cLen_c, ln_cmc_c, 0.7)"
   ]
  },
  {
   "cell_type": "code",
   "execution_count": 9,
   "id": "c69e5b90",
   "metadata": {},
   "outputs": [
    {
     "name": "stdout",
     "output_type": "stream",
     "text": [
      "Gradient:  -0.6885169419211434\n",
      "Intercept:  10.779178906543727\n",
      "Mean squared error: 0.41\n",
      "Root mean squared error: 0.64\n",
      "Coefficient of determination: 0.92\n",
      "Mean Absolute Error: 0.54\n",
      "\n",
      "\n"
     ]
    },
    {
     "data": {
      "image/png": "[encoded data removed]",
      "text/plain": [
       "<Figure size 432x288 with 1 Axes>"
      ]
     },
     "metadata": {
      "needs_background": "light"
     },
     "output_type": "display_data"
    }
   ],
   "source": [
    "cLen_test_cc, cLen_train_cc, cmc_test_cc, cmc_train_cc, cmc_predall_cc = linear_regression(cLen_c, ln_cmc_c, \n",
    "                                                                                           0.7, True)\n",
    "\n",
    "test_train_plotter(cLen_test_cc, cLen_train_cc, cLen_c, cmc_test_cc, cmc_train_cc, cmc_predall_cc, \n",
    "                   \"Number of Carbon Atoms\", False, \"lin_reg_no_ar_no_e.png\")"
   ]
  },
  {
   "cell_type": "markdown",
   "id": "0a30b27c",
   "metadata": {},
   "source": [
    "*Molecular weight*"
   ]
  },
  {
   "cell_type": "code",
   "execution_count": 10,
   "id": "387ceafe",
   "metadata": {},
   "outputs": [
    {
     "name": "stdout",
     "output_type": "stream",
     "text": [
      "RMSE Mean:  57.89\n",
      "Coefficient of Determination Mean:  0.45\n",
      "MAE Mean:  29.29\n"
     ]
    }
   ],
   "source": [
    "rmse_av_MW_c, co_det_av_MW_c, mae_av_MW_c = linear_reg_stats_average(MW_c, ln_cmc_c, 0.7)"
   ]
  },
  {
   "cell_type": "code",
   "execution_count": 11,
   "id": "0d0c52eb",
   "metadata": {},
   "outputs": [
    {
     "name": "stdout",
     "output_type": "stream",
     "text": [
      "Gradient:  -0.03653871186840822\n",
      "Intercept:  10.816259358789194\n",
      "Mean squared error: 1.32\n",
      "Root mean squared error: 1.15\n",
      "Coefficient of determination: 0.73\n",
      "Mean Absolute Error: 0.96\n",
      "\n",
      "\n"
     ]
    },
    {
     "data": {
      "image/png": "[encoded data removed]",
      "text/plain": [
       "<Figure size 432x288 with 1 Axes>"
      ]
     },
     "metadata": {
      "needs_background": "light"
     },
     "output_type": "display_data"
    }
   ],
   "source": [
    "MW_test_cc, MW_train_cc, cmc_test_cc,  cmc_train_cc, cmc_predall_cc = linear_regression(MW_c, ln_cmc_c, 0.7, True)\n",
    "\n",
    "test_train_plotter(MW_test_cc, MW_train_cc, MW_c, cmc_test_cc, cmc_train_cc, cmc_predall_cc, \"Molecular Weight\", \n",
    "                   False, \"lin_reg_mw_no_ar_no_e.png\")"
   ]
  },
  {
   "cell_type": "markdown",
   "id": "02b3fd75",
   "metadata": {},
   "source": [
    "*Number of valence electrons*"
   ]
  },
  {
   "cell_type": "code",
   "execution_count": 12,
   "id": "4b6b137d",
   "metadata": {},
   "outputs": [
    {
     "name": "stdout",
     "output_type": "stream",
     "text": [
      "RMSE Mean:  50.81\n",
      "Coefficient of Determination Mean:  0.56\n",
      "MAE Mean:  25.17\n"
     ]
    }
   ],
   "source": [
    "rmse_av_NVE_c, co_det_av_NVE_c, mae_av_NVE_c = linear_reg_stats_average(NVE_c, ln_cmc_c, 0.7)"
   ]
  },
  {
   "cell_type": "code",
   "execution_count": 13,
   "id": "c5d5c0f3",
   "metadata": {},
   "outputs": [
    {
     "name": "stdout",
     "output_type": "stream",
     "text": [
      "Gradient:  -0.09876579684121191\n",
      "Intercept:  11.772747013821945\n",
      "Mean squared error: 0.77\n",
      "Root mean squared error: 0.88\n",
      "Coefficient of determination: 0.84\n",
      "Mean Absolute Error: 0.73\n",
      "\n",
      "\n"
     ]
    },
    {
     "data": {
      "image/png": "[encoded data removed]",
      "text/plain": [
       "<Figure size 432x288 with 1 Axes>"
      ]
     },
     "metadata": {
      "needs_background": "light"
     },
     "output_type": "display_data"
    }
   ],
   "source": [
    "NVE_test_cc, NVE_train_cc, cmc_test_cc,  cmc_train_cc, cmc_predall_cc = linear_regression(NVE_c, ln_cmc_c, 0.7, \n",
    "                                                                                          True)\n",
    "\n",
    "test_train_plotter(NVE_test_cc, NVE_train_cc, NVE_c, cmc_test_cc, cmc_train_cc, cmc_predall_cc, \n",
    "                   \"Number of Valence Electrons\", False, \"lin_reg_NVE_no_ar_no_e.png\")"
   ]
  },
  {
   "cell_type": "markdown",
   "id": "dbbb6643",
   "metadata": {},
   "source": [
    "*logP*"
   ]
  },
  {
   "cell_type": "code",
   "execution_count": 14,
   "id": "7b22cf10",
   "metadata": {},
   "outputs": [
    {
     "name": "stdout",
     "output_type": "stream",
     "text": [
      "RMSE Mean:  42.29\n",
      "Coefficient of Determination Mean:  0.67\n",
      "MAE Mean:  17.43\n"
     ]
    }
   ],
   "source": [
    "rmse_av_logp_c, co_det_av_logp_c, mae_av_logp_c = linear_reg_stats_average(logp_c, ln_cmc_c, 0.7)"
   ]
  },
  {
   "cell_type": "code",
   "execution_count": 15,
   "id": "f73e0589",
   "metadata": {},
   "outputs": [
    {
     "name": "stdout",
     "output_type": "stream",
     "text": [
      "Gradient:  -1.480132229901946\n",
      "Intercept:  7.636113068041672\n",
      "Mean squared error: 0.92\n",
      "Root mean squared error: 0.96\n",
      "Coefficient of determination: 0.81\n",
      "Mean Absolute Error: 0.84\n",
      "\n",
      "\n"
     ]
    },
    {
     "data": {
      "image/png": "[encoded data removed]",
      "text/plain": [
       "<Figure size 432x288 with 1 Axes>"
      ]
     },
     "metadata": {
      "needs_background": "light"
     },
     "output_type": "display_data"
    }
   ],
   "source": [
    "logp_test_cc, logp_train_cc, cmc_test_cc,  cmc_train_cc, cmc_predall_cc = linear_regression(logp_c, ln_cmc_c, \n",
    "                                                                                            0.7, True)\n",
    "\n",
    "test_train_plotter(logp_test_cc, logp_train_cc, logp_c, cmc_test_cc, cmc_train_cc, cmc_predall_cc, \"logP\", False, \n",
    "                   \"lin_reg_logp_no_ar_no_e.png\")"
   ]
  },
  {
   "cell_type": "markdown",
   "id": "a9e97472",
   "metadata": {},
   "source": [
    "***Reads code with aromatic rings but no E groups in molecule***"
   ]
  },
  {
   "cell_type": "code",
   "execution_count": 16,
   "id": "4438c66b",
   "metadata": {},
   "outputs": [],
   "source": [
    "func_p = []; smiles_p = []; cLen_p = []; eLen_p = []; ion_p = []; cmc_p = []; ln_cmc_p = []; MW_p = [] \n",
    "NVE_p = []; logp_p = []\n",
    "\n",
    "for ind, length in enumerate(carbon_len):\n",
    "    if ethoxy_len[ind] == 0 and aromatic_ring[ind] == 1:  \n",
    "        func_p.append(func_group[ind]); smiles_p.append(smiles_str[ind]); cLen_p.append(carbon_len[ind])\n",
    "        eLen_p.append(ethoxy_len[ind]); ion_p.append(counter_ion[ind]); cmc_p.append(cmc_vals[ind])\n",
    "        ln_cmc_p.append(np.log(cmc_vals[ind])); MW_p.append(mol_weight[ind]); NVE_p.append(val_elec[ind])\n",
    "        logp_p.append(logp_vals[ind])"
   ]
  },
  {
   "cell_type": "markdown",
   "id": "5e6ac300",
   "metadata": {},
   "source": [
    "*Number of carbon atoms in tail*"
   ]
  },
  {
   "cell_type": "code",
   "execution_count": 17,
   "id": "8d9e8620",
   "metadata": {},
   "outputs": [
    {
     "name": "stdout",
     "output_type": "stream",
     "text": [
      "RMSE Mean:  52.01\n",
      "Coefficient of Determination Mean:  0.06\n",
      "MAE Mean:  31.28\n"
     ]
    }
   ],
   "source": [
    "rmse_av_cLen_p, co_det_av_cLen_p, mae_av_cLen_p = linear_reg_stats_average(cLen_p, ln_cmc_p, 0.7)"
   ]
  },
  {
   "cell_type": "code",
   "execution_count": 18,
   "id": "355e6810",
   "metadata": {},
   "outputs": [
    {
     "name": "stdout",
     "output_type": "stream",
     "text": [
      "Gradient:  -0.6064116555791577\n",
      "Intercept:  8.760143235783357\n",
      "Mean squared error: 1.23\n",
      "Root mean squared error: 1.11\n",
      "Coefficient of determination: 0.78\n",
      "Mean Absolute Error: 1.04\n",
      "\n",
      "\n"
     ]
    },
    {
     "data": {
      "image/png": "[encoded data removed]",
      "text/plain": [
       "<Figure size 432x288 with 1 Axes>"
      ]
     },
     "metadata": {
      "needs_background": "light"
     },
     "output_type": "display_data"
    }
   ],
   "source": [
    "cLen_test_pc, cLen_train_pc, cmc_test_pc, cmc_train_pc, cmc_predall_pc = linear_regression(cLen_p, ln_cmc_p, 0.7, \n",
    "                                                                                           True)\n",
    "\n",
    "test_train_plotter(cLen_test_pc, cLen_train_pc, cLen_p, cmc_test_pc, cmc_train_pc, cmc_predall_pc, \n",
    "                   \"Number of Carbon Atoms\", False, \"lin_reg_c_no_e.png\")"
   ]
  },
  {
   "cell_type": "markdown",
   "id": "85957026",
   "metadata": {},
   "source": [
    "*Molecular weight*"
   ]
  },
  {
   "cell_type": "code",
   "execution_count": 19,
   "id": "4d2f5eaa",
   "metadata": {},
   "outputs": [
    {
     "name": "stdout",
     "output_type": "stream",
     "text": [
      "RMSE Mean:  15.78\n",
      "Coefficient of Determination Mean:  0.59\n",
      "MAE Mean:  9.96\n"
     ]
    }
   ],
   "source": [
    "rmse_av_MW_p, co_det_av_MW_p, mae_av_MW_p = linear_reg_stats_average(MW_p, ln_cmc_p, 0.7)"
   ]
  },
  {
   "cell_type": "code",
   "execution_count": 20,
   "id": "97f5cd1e",
   "metadata": {},
   "outputs": [
    {
     "name": "stdout",
     "output_type": "stream",
     "text": [
      "Gradient:  -0.02900543992837641\n",
      "Intercept:  10.533376610317157\n",
      "Mean squared error: 1.29\n",
      "Root mean squared error: 1.14\n",
      "Coefficient of determination: 0.77\n",
      "Mean Absolute Error: 0.81\n",
      "\n",
      "\n"
     ]
    },
    {
     "data": {
      "image/png": "[encoded data removed]",
      "text/plain": [
       "<Figure size 432x288 with 1 Axes>"
      ]
     },
     "metadata": {
      "needs_background": "light"
     },
     "output_type": "display_data"
    }
   ],
   "source": [
    "MW_test_pc, MW_train_pc, cmc_test_pc, cmc_train_pc, cmc_predall_pc = linear_regression(MW_p, ln_cmc_p, 0.7, True)\n",
    "\n",
    "test_train_plotter(MW_test_pc, MW_train_pc, MW_p, cmc_test_pc, cmc_train_pc, cmc_predall_pc, \"Molecular Weight\",\n",
    "                   False, \"lin_reg_mw_no_e.png\")"
   ]
  },
  {
   "cell_type": "markdown",
   "id": "2a083ded",
   "metadata": {},
   "source": [
    "*Number of valence electrons*"
   ]
  },
  {
   "cell_type": "code",
   "execution_count": 21,
   "id": "59a73432",
   "metadata": {},
   "outputs": [
    {
     "name": "stdout",
     "output_type": "stream",
     "text": [
      "RMSE Mean:  22.98\n",
      "Coefficient of Determination Mean:  0.42\n",
      "MAE Mean:  14.39\n"
     ]
    }
   ],
   "source": [
    "rmse_av_NVE_p, co_det_av_NVE_p, mae_av_NVE_p = linear_reg_stats_average(NVE_p, ln_cmc_p, 0.7)"
   ]
  },
  {
   "cell_type": "code",
   "execution_count": 22,
   "id": "ca246308",
   "metadata": {},
   "outputs": [
    {
     "name": "stdout",
     "output_type": "stream",
     "text": [
      "Gradient:  -0.0690127649512479\n",
      "Intercept:  10.13304108211751\n",
      "Mean squared error: 1.19\n",
      "Root mean squared error: 1.09\n",
      "Coefficient of determination: 0.79\n",
      "Mean Absolute Error: 0.88\n",
      "\n",
      "\n"
     ]
    },
    {
     "data": {
      "image/png": "[encoded data removed]",
      "text/plain": [
       "<Figure size 432x288 with 1 Axes>"
      ]
     },
     "metadata": {
      "needs_background": "light"
     },
     "output_type": "display_data"
    }
   ],
   "source": [
    "NVE_test_pc, NVE_train_pc, cmc_test_pc, cmc_train_pc, cmc_predall_pc = linear_regression(NVE_p, ln_cmc_p, 0.7, \n",
    "                                                                                         True)\n",
    "\n",
    "test_train_plotter(NVE_test_pc, NVE_train_pc, NVE_p, cmc_test_pc, cmc_train_pc, cmc_predall_pc, \n",
    "                   \"Number of Valence Electrons\", False, \"lin_reg_NVE_no_e.png\")"
   ]
  },
  {
   "cell_type": "markdown",
   "id": "b7291698",
   "metadata": {},
   "source": [
    "*logP*"
   ]
  },
  {
   "cell_type": "code",
   "execution_count": 23,
   "id": "c555d925",
   "metadata": {},
   "outputs": [
    {
     "name": "stdout",
     "output_type": "stream",
     "text": [
      "RMSE Mean:  51.08\n",
      "Coefficient of Determination Mean:  0.01\n",
      "MAE Mean:  32.41\n"
     ]
    }
   ],
   "source": [
    "rmse_av_logp_p, co_det_av_logp_p, mae_av_logp_p = linear_reg_stats_average(logp_p, ln_cmc_p, 0.7)"
   ]
  },
  {
   "cell_type": "code",
   "execution_count": 24,
   "id": "705e7acf",
   "metadata": {},
   "outputs": [
    {
     "name": "stdout",
     "output_type": "stream",
     "text": [
      "Gradient:  -1.0100622882918227\n",
      "Intercept:  7.035803201598199\n",
      "Mean squared error: 2.04\n",
      "Root mean squared error: 1.43\n",
      "Coefficient of determination: 0.63\n",
      "Mean Absolute Error: 1.34\n",
      "\n",
      "\n"
     ]
    },
    {
     "data": {
      "image/png": "[encoded data removed]",
      "text/plain": [
       "<Figure size 432x288 with 1 Axes>"
      ]
     },
     "metadata": {
      "needs_background": "light"
     },
     "output_type": "display_data"
    }
   ],
   "source": [
    "logp_test_pc, logp_train_pc, cmc_test_pc, cmc_train_pc, cmc_predall_pc = linear_regression(logp_p, ln_cmc_p, 0.7, \n",
    "                                                                                           True)\n",
    "\n",
    "test_train_plotter(logp_test_pc, logp_train_pc, logp_p, cmc_test_pc, cmc_train_pc, cmc_predall_pc, \"logP\", False, \n",
    "                   \"lin_reg_logp_no_e.png\")"
   ]
  },
  {
   "cell_type": "markdown",
   "id": "79ae786a",
   "metadata": {},
   "source": [
    "***Reads code with E groups but no aromatic rings***"
   ]
  },
  {
   "cell_type": "code",
   "execution_count": 25,
   "id": "4a023f48",
   "metadata": {},
   "outputs": [],
   "source": [
    "func_e = []; smiles_e = []; cLen_e = []; eLen_e = []; ion_e = []; cmc_e = []; ln_cmc_e = []; MW_e = [] \n",
    "NVE_e = []; logp_e = []\n",
    "\n",
    "for ind, length in enumerate(carbon_len):\n",
    "    if ethoxy_len[ind] != 0 and aromatic_ring[ind] == 0:    \n",
    "        func_e.append(func_group[ind]); smiles_e.append(smiles_str[ind]); cLen_e.append(carbon_len[ind])\n",
    "        eLen_e.append(ethoxy_len[ind]); ion_e.append(counter_ion[ind]); cmc_e.append(cmc_vals[ind])\n",
    "        ln_cmc_e.append(np.log(cmc_vals[ind])); MW_e.append(mol_weight[ind]); NVE_e.append(val_elec[ind])\n",
    "        logp_e.append(logp_vals[ind])"
   ]
  },
  {
   "cell_type": "markdown",
   "id": "43619479",
   "metadata": {},
   "source": [
    "*Number of carbon atoms in tail*"
   ]
  },
  {
   "cell_type": "code",
   "execution_count": 26,
   "id": "4c80235b",
   "metadata": {},
   "outputs": [
    {
     "name": "stdout",
     "output_type": "stream",
     "text": [
      "RMSE Mean:  3.23\n",
      "Coefficient of Determination Mean:  0.78\n",
      "MAE Mean:  1.44\n"
     ]
    }
   ],
   "source": [
    "rmse_av_cLen_e, co_det_av_cLen_e, mae_av_cLen_e = linear_reg_stats_average(cLen_e, ln_cmc_e, 0.7)"
   ]
  },
  {
   "cell_type": "code",
   "execution_count": 27,
   "id": "c6428be6",
   "metadata": {},
   "outputs": [
    {
     "name": "stdout",
     "output_type": "stream",
     "text": [
      "Gradient:  -1.016936789162159\n",
      "Intercept:  10.166236773885677\n",
      "Mean squared error: 0.12\n",
      "Root mean squared error: 0.35\n",
      "Coefficient of determination: 0.98\n",
      "Mean Absolute Error: 0.29\n",
      "\n",
      "\n"
     ]
    },
    {
     "data": {
      "image/png": "[encoded data removed]",
      "text/plain": [
       "<Figure size 432x288 with 1 Axes>"
      ]
     },
     "metadata": {
      "needs_background": "light"
     },
     "output_type": "display_data"
    }
   ],
   "source": [
    "cLen_test_ec, cLen_train_ec, cmc_test_ec, cmc_train_ec, cmc_predall_ec = linear_regression(cLen_e, ln_cmc_e, 0.7, \n",
    "                                                                                           True)\n",
    "\n",
    "test_train_plotter(cLen_test_ec, cLen_train_ec, cLen_e, cmc_test_ec, cmc_train_ec, cmc_predall_ec, \n",
    "                   \"Number of Carbon Atoms\", False, \"lin_reg_c_no_ar.png\")"
   ]
  },
  {
   "cell_type": "markdown",
   "id": "71132a99",
   "metadata": {},
   "source": [
    "*Molecular weight*"
   ]
  },
  {
   "cell_type": "code",
   "execution_count": 28,
   "id": "10122a76",
   "metadata": {},
   "outputs": [
    {
     "name": "stdout",
     "output_type": "stream",
     "text": [
      "RMSE Mean:  9.93\n",
      "Coefficient of Determination Mean:  0.05\n",
      "MAE Mean:  4.66\n"
     ]
    }
   ],
   "source": [
    "rmse_av_MW_e, co_det_av_MW_e, mae_av_MW_e = linear_reg_stats_average(MW_e, ln_cmc_e, 0.7)"
   ]
  },
  {
   "cell_type": "code",
   "execution_count": 29,
   "id": "82997b21",
   "metadata": {},
   "outputs": [
    {
     "name": "stdout",
     "output_type": "stream",
     "text": [
      "Gradient:  -0.016625591191048433\n",
      "Intercept:  6.256459618428952\n",
      "Mean squared error: 2.00\n",
      "Root mean squared error: 1.41\n",
      "Coefficient of determination: 0.70\n",
      "Mean Absolute Error: 1.27\n",
      "\n",
      "\n"
     ]
    },
    {
     "data": {
      "image/png": "[encoded data removed]",
      "text/plain": [
       "<Figure size 432x288 with 1 Axes>"
      ]
     },
     "metadata": {
      "needs_background": "light"
     },
     "output_type": "display_data"
    }
   ],
   "source": [
    "MW_test_ec, MW_train_ec, cmc_test_ec, cmc_train_ec, cmc_predall_ec = linear_regression(MW_e, ln_cmc_e, 0.7, True)\n",
    "\n",
    "test_train_plotter(MW_test_ec, MW_train_ec, MW_e, cmc_test_ec, cmc_train_ec, cmc_predall_ec, \"Molecular Weight\", \n",
    "                   False, \"lin_reg_mw_no_ar.png\")"
   ]
  },
  {
   "cell_type": "markdown",
   "id": "789b12b6",
   "metadata": {},
   "source": [
    "*Number of valence electrons*"
   ]
  },
  {
   "cell_type": "code",
   "execution_count": 30,
   "id": "7cec8aed",
   "metadata": {},
   "outputs": [
    {
     "name": "stdout",
     "output_type": "stream",
     "text": [
      "RMSE Mean:  9.98\n",
      "Coefficient of Determination Mean:  0.05\n",
      "MAE Mean:  4.68\n"
     ]
    }
   ],
   "source": [
    "rmse_av_NVE_e, co_det_av_NVE_e, mae_av_NVE_e = linear_reg_stats_average(NVE_e, ln_cmc_e, 0.7)"
   ]
  },
  {
   "cell_type": "code",
   "execution_count": 31,
   "id": "e3624ce4",
   "metadata": {},
   "outputs": [
    {
     "name": "stdout",
     "output_type": "stream",
     "text": [
      "Gradient:  -0.040626835991321\n",
      "Intercept:  6.399275543291876\n",
      "Mean squared error: 1.98\n",
      "Root mean squared error: 1.41\n",
      "Coefficient of determination: 0.70\n",
      "Mean Absolute Error: 1.27\n",
      "\n",
      "\n"
     ]
    },
    {
     "data": {
      "image/png": "[encoded data removed]",
      "text/plain": [
       "<Figure size 432x288 with 1 Axes>"
      ]
     },
     "metadata": {
      "needs_background": "light"
     },
     "output_type": "display_data"
    }
   ],
   "source": [
    "NVE_test_ec, NVE_train_ec, cmc_test_ec, cmc_train_ec, cmc_predall_ec = linear_regression(NVE_e, ln_cmc_e, 0.7, \n",
    "                                                                                         True)\n",
    "\n",
    "test_train_plotter(NVE_test_ec, NVE_train_ec, NVE_e, cmc_test_ec, cmc_train_ec, cmc_predall_ec, \n",
    "                   \"Number of Valence Electrons\", False, \"lin_reg_NVE_no_ar.png\")"
   ]
  },
  {
   "cell_type": "markdown",
   "id": "c03df921",
   "metadata": {},
   "source": [
    "*logP*"
   ]
  },
  {
   "cell_type": "code",
   "execution_count": 32,
   "id": "461b4e89",
   "metadata": {},
   "outputs": [
    {
     "name": "stdout",
     "output_type": "stream",
     "text": [
      "RMSE Mean:  3.41\n",
      "Coefficient of Determination Mean:  0.73\n",
      "MAE Mean:  1.56\n"
     ]
    }
   ],
   "source": [
    "rmse_av_logp_e, co_det_av_logp_e, mae_av_logp_e = linear_reg_stats_average(logp_e, ln_cmc_e, 0.7)"
   ]
  },
  {
   "cell_type": "code",
   "execution_count": 33,
   "id": "cdc0c67c",
   "metadata": {},
   "outputs": [
    {
     "name": "stdout",
     "output_type": "stream",
     "text": [
      "Gradient:  -2.5594876052085174\n",
      "Intercept:  8.227196093981224\n",
      "Mean squared error: 0.13\n",
      "Root mean squared error: 0.37\n",
      "Coefficient of determination: 0.98\n",
      "Mean Absolute Error: 0.31\n",
      "\n",
      "\n"
     ]
    },
    {
     "data": {
      "image/png": "[encoded data removed]",
      "text/plain": [
       "<Figure size 432x288 with 1 Axes>"
      ]
     },
     "metadata": {
      "needs_background": "light"
     },
     "output_type": "display_data"
    }
   ],
   "source": [
    "logp_test_ec, logp_train_ec, cmc_test_ec, cmc_train_ec, cmc_predall_ec = linear_regression(logp_e, ln_cmc_e, 0.7, \n",
    "                                                                                           True)\n",
    "\n",
    "test_train_plotter(logp_test_ec, logp_train_ec, logp_e, cmc_test_ec, cmc_train_ec, cmc_predall_ec, \"logP\", False, \n",
    "                   \"lin_reg_logp_no_ar.png\")"
   ]
  },
  {
   "cell_type": "markdown",
   "id": "fbc1ea55",
   "metadata": {},
   "source": [
    "*Length of ethoxylate chain*"
   ]
  },
  {
   "cell_type": "code",
   "execution_count": 34,
   "id": "8324a9ce",
   "metadata": {},
   "outputs": [
    {
     "name": "stdout",
     "output_type": "stream",
     "text": [
      "Gradient:  -0.6297871502706721\n",
      "Intercept:  2.669543906142893\n",
      "Mean squared error: 2.61\n",
      "Root mean squared error: 1.61\n",
      "Coefficient of determination: 0.61\n",
      "Mean Absolute Error: 1.34\n",
      "\n",
      "\n"
     ]
    },
    {
     "data": {
      "image/png": "[encoded data removed]",
      "text/plain": [
       "<Figure size 432x288 with 1 Axes>"
      ]
     },
     "metadata": {
      "needs_background": "light"
     },
     "output_type": "display_data"
    }
   ],
   "source": [
    "eLen_test_ee, eLen_train_ee, cmc_test_ee, cmc_train_ee, cmc_predall_ee = linear_regression(eLen_e, ln_cmc_e, 0.7, \n",
    "                                                                                           True)\n",
    "\n",
    "test_train_plotter(eLen_test_ee, eLen_train_ee, eLen_e, cmc_test_ee, cmc_train_ee, cmc_predall_ee, \n",
    "                   \"Number of Ethoxylate Groups\", False, \"lin_reg_ethoxy_len.png\")"
   ]
  },
  {
   "cell_type": "markdown",
   "id": "8ad71098",
   "metadata": {},
   "source": [
    "***Reads code with E and aromatic rings***"
   ]
  },
  {
   "cell_type": "code",
   "execution_count": 35,
   "id": "ccfbc536",
   "metadata": {},
   "outputs": [],
   "source": [
    "func_ep = []; smiles_ep = []; cLen_ep = []; eLen_ep = []; ion_ep = []; cmc_ep = []; ln_cmc_ep = []; MW_ep = [] \n",
    "NVE_ep = []; logp_ep = []\n",
    "\n",
    "for ind, length in enumerate(carbon_len):\n",
    "    if ethoxy_len[ind] != 0 and aromatic_ring[ind] == 1:   \n",
    "        func_ep.append(func_group[ind]); smiles_ep.append(smiles_str[ind]); cLen_ep.append(carbon_len[ind])\n",
    "        eLen_ep.append(ethoxy_len[ind]); ion_ep.append(counter_ion[ind]); cmc_ep.append(cmc_vals[ind])\n",
    "        ln_cmc_ep.append(np.log(cmc_vals[ind])); MW_ep.append(mol_weight[ind]); NVE_ep.append(val_elec[ind])\n",
    "        logp_ep.append(logp_vals[ind])"
   ]
  },
  {
   "cell_type": "markdown",
   "id": "c2957b5b",
   "metadata": {},
   "source": [
    "*Number of carbon atoms in tail*"
   ]
  },
  {
   "cell_type": "code",
   "execution_count": 36,
   "id": "30cd82e7",
   "metadata": {},
   "outputs": [
    {
     "name": "stdout",
     "output_type": "stream",
     "text": [
      "Gradient:  -0.12805490073610087\n",
      "Intercept:  -0.6800873571234021\n",
      "Mean squared error: 0.56\n",
      "Root mean squared error: 0.75\n",
      "Coefficient of determination: -3.49\n",
      "Mean Absolute Error: 0.63\n",
      "\n",
      "\n"
     ]
    },
    {
     "data": {
      "image/png": "[encoded data removed]",
      "text/plain": [
       "<Figure size 432x288 with 1 Axes>"
      ]
     },
     "metadata": {
      "needs_background": "light"
     },
     "output_type": "display_data"
    }
   ],
   "source": [
    "cLen_test_epc, cLen_train_epc, cmc_test_epc, cmc_train_epc, cmc_predall_epc = linear_regression(cLen_ep, \n",
    "                                                                                                ln_cmc_ep, \n",
    "                                                                                                0.7, True)\n",
    "\n",
    "test_train_plotter(cLen_test_epc, cLen_train_epc, cLen_ep, cmc_test_epc, cmc_train_epc, cmc_predall_epc, \n",
    "                   \"Number of Carbon Atoms\", False, \"lin_reg_c_eph.png\")"
   ]
  },
  {
   "cell_type": "markdown",
   "id": "7919fc41",
   "metadata": {},
   "source": [
    "*Molecular weight*"
   ]
  },
  {
   "cell_type": "code",
   "execution_count": 37,
   "id": "84b964f9",
   "metadata": {},
   "outputs": [
    {
     "name": "stdout",
     "output_type": "stream",
     "text": [
      "Gradient:  0.0005620389577653186\n",
      "Intercept:  -2.026068430660054\n",
      "Mean squared error: 0.52\n",
      "Root mean squared error: 0.72\n",
      "Coefficient of determination: -3.16\n",
      "Mean Absolute Error: 0.67\n",
      "\n",
      "\n"
     ]
    },
    {
     "data": {
      "image/png": "[encoded data removed]",
      "text/plain": [
       "<Figure size 432x288 with 1 Axes>"
      ]
     },
     "metadata": {
      "needs_background": "light"
     },
     "output_type": "display_data"
    }
   ],
   "source": [
    "MW_test_epc, MW_train_epc, cmc_test_epc, cmc_train_epc, cmc_predall_epc = linear_regression(MW_ep, ln_cmc_ep, \n",
    "                                                                                            0.7, True)\n",
    "\n",
    "test_train_plotter(MW_test_epc, MW_train_epc, MW_ep, cmc_test_epc, cmc_train_epc, cmc_predall_epc, \n",
    "                   \"Molecular Weight\", False, \"lin_reg_mw_eph.png\")"
   ]
  },
  {
   "cell_type": "markdown",
   "id": "1a7870c9",
   "metadata": {},
   "source": [
    "*Number of valence electrons*"
   ]
  },
  {
   "cell_type": "code",
   "execution_count": 38,
   "id": "d0e991ea",
   "metadata": {},
   "outputs": [
    {
     "name": "stdout",
     "output_type": "stream",
     "text": [
      "Gradient:  0.0013718738195378356\n",
      "Intercept:  -2.0250894135416213\n",
      "Mean squared error: 0.52\n",
      "Root mean squared error: 0.72\n",
      "Coefficient of determination: -3.16\n",
      "Mean Absolute Error: 0.67\n",
      "\n",
      "\n"
     ]
    },
    {
     "data": {
      "image/png": "[encoded data removed]",
      "text/plain": [
       "<Figure size 432x288 with 1 Axes>"
      ]
     },
     "metadata": {
      "needs_background": "light"
     },
     "output_type": "display_data"
    }
   ],
   "source": [
    "NVE_test_epc, NVE_train_epc, cmc_test_epc, cmc_train_epc, cmc_predall_epc = linear_regression(NVE_ep, ln_cmc_ep, \n",
    "                                                                                              0.7, True)\n",
    "\n",
    "test_train_plotter(NVE_test_epc, NVE_train_epc, NVE_ep, cmc_test_epc, cmc_train_epc, cmc_predall_epc, \n",
    "                   \"Number of Valence Electrons\", False, \"lin_reg_NVE_eph.png\")"
   ]
  },
  {
   "cell_type": "markdown",
   "id": "2066bc68",
   "metadata": {},
   "source": [
    "*logP*"
   ]
  },
  {
   "cell_type": "code",
   "execution_count": 39,
   "id": "fc97f64d",
   "metadata": {},
   "outputs": [
    {
     "name": "stdout",
     "output_type": "stream",
     "text": [
      "Gradient:  0.1319894655621914\n",
      "Intercept:  -2.2642557796460725\n",
      "Mean squared error: 0.60\n",
      "Root mean squared error: 0.77\n",
      "Coefficient of determination: -3.78\n",
      "Mean Absolute Error: 0.70\n",
      "\n",
      "\n"
     ]
    },
    {
     "data": {
      "image/png": "[encoded data removed]",
      "text/plain": [
       "<Figure size 432x288 with 1 Axes>"
      ]
     },
     "metadata": {
      "needs_background": "light"
     },
     "output_type": "display_data"
    }
   ],
   "source": [
    "logp_test_epc, logp_train_epc, cmc_test_epc, cmc_train_epc, cmc_predall_epc = linear_regression(logp_ep, \n",
    "                                                                                                ln_cmc_ep, \n",
    "                                                                                                0.7, True)\n",
    "\n",
    "test_train_plotter(logp_test_epc, logp_train_epc, logp_ep, cmc_test_epc, cmc_train_epc, cmc_predall_epc, \"logP\", \n",
    "                   False, \"lin_reg_logp_eph.png\")"
   ]
  },
  {
   "cell_type": "markdown",
   "id": "72c6c421",
   "metadata": {},
   "source": [
    "*Length of ethoxylate chain*"
   ]
  },
  {
   "cell_type": "code",
   "execution_count": 40,
   "id": "35af3181",
   "metadata": {},
   "outputs": [
    {
     "name": "stdout",
     "output_type": "stream",
     "text": [
      "Gradient:  0.02585381636303822\n",
      "Intercept:  -1.9176687753723882\n",
      "Mean squared error: 0.51\n",
      "Root mean squared error: 0.72\n",
      "Coefficient of determination: -3.11\n",
      "Mean Absolute Error: 0.66\n",
      "\n",
      "\n"
     ]
    },
    {
     "data": {
      "image/png": "[encoded data removed]",
      "text/plain": [
       "<Figure size 432x288 with 1 Axes>"
      ]
     },
     "metadata": {
      "needs_background": "light"
     },
     "output_type": "display_data"
    }
   ],
   "source": [
    "eLen_test_epe, eLen_train_epe, cmc_test_epe, cmc_train_epe, cmc_predall_epe = linear_regression(eLen_ep, \n",
    "                                                                                                ln_cmc_ep, \n",
    "                                                                                                0.7, True)\n",
    "\n",
    "test_train_plotter(eLen_test_epe, eLen_train_epe, eLen_ep, cmc_test_epe, cmc_train_epe, cmc_predall_epe, \n",
    "                   \"Number of Ethoxylate Groups\", False, \"lin_reg_elen_eph.png\")"
   ]
  },
  {
   "cell_type": "code",
   "execution_count": null,
   "id": "1744c745",
   "metadata": {},
   "outputs": [],
   "source": []
  }
 ],
 "metadata": {
  "kernelspec": {
   "display_name": "Python 3 (ipykernel)",
   "language": "python",
   "name": "python3"
  },
  "language_info": {
   "codemirror_mode": {
    "name": "ipython",
    "version": 3
   },
   "file_extension": ".py",
   "mimetype": "text/x-python",
   "name": "python",
   "nbconvert_exporter": "python",
   "pygments_lexer": "ipython3",
   "version": "3.9.12"
  }
 },
 "nbformat": 4,
 "nbformat_minor": 5
}
