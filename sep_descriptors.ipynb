{
 "cells": [
  {
   "cell_type": "code",
   "execution_count": 1,
   "id": "1cdd3073",
   "metadata": {},
   "outputs": [],
   "source": [
    "import rdkit # used to import various descriptors\n",
    "from rdkit import Chem\n",
    "from rdkit.Chem import Descriptors \n",
    "\n",
    "import pandas as pd # for making data frames\n",
    "import numpy as np # for creation of arrays\n",
    "import csv # outputs csv files"
   ]
  },
  {
   "cell_type": "code",
   "execution_count": 2,
   "id": "2983f49a",
   "metadata": {},
   "outputs": [],
   "source": [
    "def check_group(chain, group):\n",
    "          \n",
    "    '''\n",
    "    \n",
    "    check_group:\n",
    "    ------------\n",
    "    \n",
    "    A function that checks a string for a particular substring and returns the corresponding boolean.\n",
    "    \n",
    "    Args:\n",
    "    -----\n",
    "    \n",
    "    chain: string to check\n",
    "    group: substring being tested for\n",
    "    \n",
    "    Returns:\n",
    "    --------\n",
    "    \n",
    "    pos: index of located string\n",
    "    group_exists: boolean showing whether or not that substring was located \n",
    "    \n",
    "    '''\n",
    "        \n",
    "    try:\n",
    "        pos = chain.index(group)       # finds index of start of group if possible \n",
    "    except ValueError:                \n",
    "        pos = np.nan\n",
    "        \n",
    "    if np.isnan(pos):                  # identifies if it located the specified string\n",
    "        group_exists = False           # it sets the correct boolean to say whether or not that string is present\n",
    "    else:\n",
    "        group_exists = True\n",
    "        \n",
    "    return(pos, group_exists)"
   ]
  },
  {
   "cell_type": "code",
   "execution_count": 3,
   "id": "b63e77a7",
   "metadata": {},
   "outputs": [],
   "source": [
    "cmc_data = pd.read_csv(open(\"Submit_Data/output_smiles.csv\"), \n",
    "                       delimiter = (\",\"))  \n",
    "# reads in data about the critical micelle concentration, values are separated by a comma\n",
    "    \n",
    "func_group = []; chain = []; smiles = []; smiles_head = []; smiles_tail = []; carbon_length = []; \n",
    "ethoxy_length = []; ph_exists = []; counter_ion = []; cmc_vals = []; ln_cmc = []\n",
    "\n",
    "for ind, row in cmc_data.iterrows(): # reads in the rows of the data \n",
    "    \n",
    "    func_group_i = row[\"Surfactant\"] # head group info \n",
    "    chain_i = row[\"Chain\"] # chain length\n",
    "    smiles_i = row[\"Smiles\"] # smiles string\n",
    "    smiles_head_i = row[\"Head Smiles\"] # smiles string of head group\n",
    "    smiles_tail_i = row[\"Tail Smiles\"] # smiles string of tail goup\n",
    "    carbon_length_i = row[\"Carbon Length\"] # carbon chain length\n",
    "    ethoxy_length_i = row[\"Ethoxy Length\"] # ethoxylate group length\n",
    "    counter_ion_i = row[\"Counter Ion\"] # finds counter ion\n",
    "    cmc_i = row[\"CMC / mM\"] # finds CMC data\n",
    "    \n",
    "    func_group.append(func_group_i) # adds the data to separate lists  \n",
    "    chain.append(chain_i); smiles.append(smiles_i); smiles_head.append(smiles_head_i)\n",
    "    smiles_tail.append(smiles_tail_i); carbon_length.append(carbon_length_i); ethoxy_length.append(ethoxy_length_i)\n",
    "    counter_ion.append(counter_ion_i); cmc_vals.append(cmc_i); ln_cmc.append(np.log(cmc_i))"
   ]
  },
  {
   "cell_type": "code",
   "execution_count": 4,
   "id": "18d581c6",
   "metadata": {},
   "outputs": [],
   "source": [
    "tail_group = []\n",
    "\n",
    "for string in chain: # finds the tail group information e.g. C8\n",
    "    pos_e, is_e = check_group(string, \"E\") # ethoxylate chain considered the head group\n",
    "    pos_py, is_py = check_group(string, \"Py\")\n",
    "    if is_e:\n",
    "        new_str = string[:pos_e]\n",
    "    elif is_py:\n",
    "        new_str = string[:pos_py]\n",
    "    else:\n",
    "        new_str = string\n",
    "    tail_group.append(new_str)"
   ]
  },
  {
   "cell_type": "code",
   "execution_count": 5,
   "id": "eba45b0a",
   "metadata": {},
   "outputs": [],
   "source": [
    "# converts smile string into an RDKit mol object for each smiles string and puts it into a new list\n",
    "mol_list_head = [Chem.MolFromSmiles(smiles_str) for smiles_str in smiles_head]\n",
    "mol_list_tail = [Chem.MolFromSmiles(smiles_str) for smiles_str in smiles_tail]"
   ]
  },
  {
   "cell_type": "code",
   "execution_count": 6,
   "id": "dca780b1",
   "metadata": {},
   "outputs": [],
   "source": [
    "# uses the function to calculate the molecular weight of each of the mol objects and puts them into a new list\n",
    "mol_weight_head = [rdkit.Chem.Descriptors.ExactMolWt(elem) for elem in mol_list_head]\n",
    "mol_weight_tail = [rdkit.Chem.Descriptors.ExactMolWt(elem) for elem in mol_list_tail]"
   ]
  },
  {
   "cell_type": "code",
   "execution_count": 7,
   "id": "b67d4ab4",
   "metadata": {},
   "outputs": [],
   "source": [
    "# uses the function to calculate number of valence electrons of each mol objects and puts them into a new list\n",
    "val_elec_head = [rdkit.Chem.Descriptors.NumValenceElectrons(elem) for elem in mol_list_head]\n",
    "val_elec_tail = [rdkit.Chem.Descriptors.NumValenceElectrons(elem) for elem in mol_list_tail]"
   ]
  },
  {
   "cell_type": "code",
   "execution_count": 8,
   "id": "34783ec5",
   "metadata": {},
   "outputs": [],
   "source": [
    "# uses the function to calculate logP of each mol objects and puts them into a new list\n",
    "logp_head = [rdkit.Chem.Crippen.MolLogP(elem) for elem in mol_list_head]\n",
    "logp_tail = [rdkit.Chem.Crippen.MolLogP(elem) for elem in mol_list_tail]"
   ]
  },
  {
   "cell_type": "code",
   "execution_count": 9,
   "id": "9ddd4a55",
   "metadata": {},
   "outputs": [],
   "source": [
    "# uses the function to calculate number of aromatic rings of each mol objects and puts them into a new list\n",
    "aromatic_rings_head = [rdkit.Chem.Lipinski.NumAromaticRings(elem) for elem in mol_list_head]\n",
    "aromatic_rings_tail = [rdkit.Chem.Lipinski.NumAromaticRings(elem) for elem in mol_list_tail]"
   ]
  },
  {
   "cell_type": "code",
   "execution_count": 10,
   "id": "20b2ba02",
   "metadata": {},
   "outputs": [],
   "source": [
    "header = [\"surfactant\", \"chain\", \"tail_group\", \"smiles\", \"head_smiles\", \"tail_smiles\", \"carbon_len\", \"ethoxy_len\", \n",
    "          \"aromatic_rings_tail\", \"counter_ion\", \"CMC\", \"MW_head\", \"MW_tail\", \"NVE_head\", \"NVE_tail\", \n",
    "          \"logP_head\", \"logP_tail\"] # creates headers for the new outputted csv file\n",
    "\n",
    "# creates a new csv file with additional information\n",
    "with open(\"Submit_Data/output_descript_sep.csv\", \"w\") as file:    \n",
    "    writer = csv.writer(file) # creates a new file\n",
    "    writer.writerow(header) # adds the headers as the first row in the file\n",
    "                   \n",
    "    # finds a row of the new data to be added to the csv file using the index\n",
    "    for ind, func_group in enumerate(func_group):\n",
    "        current_row = [func_group, chain[ind], tail_group[ind], smiles[ind], smiles_head[ind], smiles_tail[ind], \n",
    "                       carbon_length[ind],ethoxy_length[ind], aromatic_rings_tail[ind], counter_ion[ind], \n",
    "                       cmc_vals[ind], mol_weight_head[ind], mol_weight_tail[ind], val_elec_head[ind], \n",
    "                       val_elec_tail[ind], logp_head[ind], logp_tail[ind]]\n",
    "        \n",
    "        writer.writerow(current_row) # writes the new row to the csv file"
   ]
  },
  {
   "cell_type": "code",
   "execution_count": null,
   "id": "833b17e2",
   "metadata": {},
   "outputs": [],
   "source": []
  }
 ],
 "metadata": {
  "kernelspec": {
   "display_name": "Python 3 (ipykernel)",
   "language": "python",
   "name": "python3"
  },
  "language_info": {
   "codemirror_mode": {
    "name": "ipython",
    "version": 3
   },
   "file_extension": ".py",
   "mimetype": "text/x-python",
   "name": "python",
   "nbconvert_exporter": "python",
   "pygments_lexer": "ipython3",
   "version": "3.9.12"
  }
 },
 "nbformat": 4,
 "nbformat_minor": 5
}
